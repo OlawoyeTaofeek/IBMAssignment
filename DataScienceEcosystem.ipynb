{
 "cells": [
  {
   "cell_type": "markdown",
   "id": "3ee6a876",
   "metadata": {},
   "source": [
    "<h1>Data Science Tools and Ecosystem</h1>"
   ]
  },
  {
   "cell_type": "markdown",
   "id": "5943ec55",
   "metadata": {},
   "source": [
    "--------------------------------------------------------------------------------------------------------------------------------"
   ]
  },
  {
   "cell_type": "markdown",
   "id": "46497221",
   "metadata": {},
   "source": [
    "### Introduction\n",
    "In this Notebook Data Science Tools and Ecosystem are summarized."
   ]
  },
  {
   "cell_type": "markdown",
   "id": "3ed4da89",
   "metadata": {},
   "source": [
    "# Objectives:\n",
    "\n",
    "<ul>\n",
    "    <li>List popular languages for Data Science</li>\n",
    "    <li>List common libraries used in Data Science</li>\n",
    "    <li>List common Data science Tools</li>\n",
    "    <li>Demonstrate examples of evaluating arithmetic expressions in Python</li>\n",
    "</ul>"
   ]
  },
  {
   "cell_type": "markdown",
   "id": "ac083bdf",
   "metadata": {},
   "source": [
    "#### Some of the popular languages that Data Scientists use are:\n",
    "\n",
    "<ol>\n",
    "    <li>Python</li>\n",
    "    <li>R</li>\n",
    "    <li>Scala</li>\n",
    "    <li>Java</li>\n",
    "    <li>Julia</li>\n",
    "    <li>C++</li>\n",
    "    <li>Javascript</li>\n",
    "</ol>"
   ]
  },
  {
   "cell_type": "markdown",
   "id": "3b5adc68",
   "metadata": {},
   "source": [
    "#### Some of the commonly used libraries used by Data Scientists include:\n",
    "\n",
    "<ol>\n",
    "    <li>Pandas</li>\n",
    "    <li>Sklearn</li>\n",
    "    <li>Matplotlib</li>\n",
    "    <li>Seaborn</li>\n",
    "    <li>Numpy</li>\n",
    "    <li>Tensorflow</li>\n",
    "</ol>"
   ]
  },
  {
   "cell_type": "markdown",
   "id": "0dcb44e7",
   "metadata": {},
   "source": [
    "-----------------------------\n",
    "| <h3>Data Science Tools</h3>|\n",
    "| -------------------------- |\n",
    "| Jupyter Notebook           |\n",
    "| VSCode (Visual Studio Code)|\n",
    "| Spyder                     |\n",
    "| Anaconda                   |\n",
    "| R studio                   |\n"
   ]
  },
  {
   "cell_type": "markdown",
   "id": "1a909f2c",
   "metadata": {},
   "source": [
    "<h3>Below are a few examples of evaluating arithmetic expressions in Python</h3>"
   ]
  },
  {
   "cell_type": "code",
   "execution_count": 19,
   "id": "b3c37a71",
   "metadata": {},
   "outputs": [
    {
     "name": "stdout",
     "output_type": "stream",
     "text": [
      "17\n"
     ]
    }
   ],
   "source": [
    "# Mixed arithmetic operations\n",
    "result = (3*4)+5\n",
    "print(result)           "
   ]
  },
  {
   "cell_type": "code",
   "execution_count": 18,
   "id": "34fd123a",
   "metadata": {},
   "outputs": [
    {
     "name": "stdout",
     "output_type": "stream",
     "text": [
      "3.3333333333333335\n"
     ]
    }
   ],
   "source": [
    "# This will convert 200 minutes to hours by diving by 60\n",
    "minutes = 200\n",
    "hours = minutes / 60\n",
    "print(hours)"
   ]
  },
  {
   "cell_type": "markdown",
   "id": "8f5846fd",
   "metadata": {},
   "source": [
    "<h3>List of popular languages for Data Science</h3>"
   ]
  },
  {
   "cell_type": "markdown",
   "id": "cbd2ae98",
   "metadata": {},
   "source": [
    "<ol>\n",
    "    <li>Python</li>\n",
    "    <li>R</li>\n",
    "    <li>SQL</li>\n",
    "    <li>Julia</li>\n",
    "</ol>"
   ]
  },
  {
   "cell_type": "markdown",
   "id": "73532b41",
   "metadata": {},
   "source": [
    "<h2>Author:</h2>\n",
    "\n",
    "Olawoye Taofeek"
   ]
  },
  {
   "cell_type": "code",
   "execution_count": null,
   "id": "e9711da6",
   "metadata": {},
   "outputs": [],
   "source": []
  }
 ],
 "metadata": {
  "kernelspec": {
   "display_name": "Python 3 (ipykernel)",
   "language": "python",
   "name": "python3"
  },
  "language_info": {
   "codemirror_mode": {
    "name": "ipython",
    "version": 3
   },
   "file_extension": ".py",
   "mimetype": "text/x-python",
   "name": "python",
   "nbconvert_exporter": "python",
   "pygments_lexer": "ipython3",
   "version": "3.11.5"
  }
 },
 "nbformat": 4,
 "nbformat_minor": 5
}
