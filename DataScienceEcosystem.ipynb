{
 "cells": [
  {
   "cell_type": "markdown",
   "id": "09d6b595",
   "metadata": {},
   "source": [
    "<h1>Data Science Tools and Ecosystem</h1>"
   ]
  },
  {
   "cell_type": "markdown",
   "id": "2ecc6dbc",
   "metadata": {},
   "source": [
    "### Data Science Tools and Ecosystem are summarized."
   ]
  },
  {
   "cell_type": "markdown",
   "id": "781123ad",
   "metadata": {},
   "source": [
    "## Objectives:\n",
    "\n",
    "- **List popular languages for Data Science:**\n",
    "  - Python, R, SQL, Julia, Scala, and others.\n",
    "- **Explore common libraries used in Data Science:**\n",
    "  - NumPy, Pandas, Matplotlib, Scikit-learn, TensorFlow, PyTorch, and more.\n",
    "- **Demonstrate examples of evaluating arithmetic expressions in Python:**\n",
    "  - Basic arithmetic operations, parentheses, exponents, modulo"
   ]
  },
  {
   "cell_type": "markdown",
   "id": "0de96a10",
   "metadata": {},
   "source": [
    "#### Some of the popular languages that Data Scientists use are:\n",
    "\n",
    "<ol>\n",
    "    <li>Python</li>\n",
    "    <li>R</li>\n",
    "    <li>Scala</li>\n",
    "    <li>Java</li>\n",
    "</ol>"
   ]
  },
  {
   "cell_type": "markdown",
   "id": "b30401b9",
   "metadata": {},
   "source": [
    "#### Some of the commonly used libraries used by Data Scientists include:\n",
    "\n",
    "<ol>\n",
    "    <li>Pandas</li>\n",
    "    <li>Sklearn</li>\n",
    "    <li>Matplotlib</li>\n",
    "    <li>Seaborn</li>\n",
    "    <li>Numpy</li>\n",
    "    <li>Tensorflow</li>\n",
    "</ol>"
   ]
  },
  {
   "cell_type": "markdown",
   "id": "95c54cfd",
   "metadata": {},
   "source": [
    "#### Development environment open source tools used in data science\n",
    "-----------------------------\n",
    "| Data Science Tools         |\n",
    "| -------------------------- |\n",
    "| Jupyter Notebook           |\n",
    "| VSCode (Visual Studio Code)|\n",
    "| Spyder                     |\n"
   ]
  },
  {
   "cell_type": "markdown",
   "id": "9793d0a7",
   "metadata": {},
   "source": [
    "<h3>Below are a few examples of evaluating arithmetic expressions in Python</h3>"
   ]
  },
  {
   "cell_type": "code",
   "execution_count": 3,
   "id": "bc6d525d",
   "metadata": {},
   "outputs": [
    {
     "name": "stdout",
     "output_type": "stream",
     "text": [
      "8\n",
      "3.0\n"
     ]
    }
   ],
   "source": [
    "result = 3 + 5  # Addition\n",
    "print(result)   # Output: 8\n",
    "\n",
    "result = 12 / 4  # Division\n",
    "print(result)   # Output: 3.0"
   ]
  },
  {
   "cell_type": "code",
   "execution_count": 5,
   "id": "a15eee95",
   "metadata": {},
   "outputs": [
    {
     "name": "stdout",
     "output_type": "stream",
     "text": [
      "1\n"
     ]
    }
   ],
   "source": [
    "result = 10 % 3  # Modulo (remainder)\n",
    "print(result)    # Output: 1"
   ]
  },
  {
   "cell_type": "markdown",
   "id": "da5d4ec8",
   "metadata": {},
   "source": [
    "<h3>This a simple arithmetic expression to mutiply then add integers</h3>"
   ]
  },
  {
   "cell_type": "code",
   "execution_count": 6,
   "id": "36313927",
   "metadata": {},
   "outputs": [
    {
     "name": "stdout",
     "output_type": "stream",
     "text": [
      "14\n"
     ]
    }
   ],
   "source": [
    "result = 2 * (4 + 3)  # Mixed arithmetic operations\n",
    "print(result)           "
   ]
  },
  {
   "cell_type": "code",
   "execution_count": 7,
   "id": "2d52d38f",
   "metadata": {},
   "outputs": [
    {
     "name": "stdout",
     "output_type": "stream",
     "text": [
      "16\n"
     ]
    }
   ],
   "source": [
    "results = (2 * 5) + 6\n",
    "print(results)"
   ]
  },
  {
   "cell_type": "markdown",
   "id": "47249842",
   "metadata": {},
   "source": [
    "<h3>Converting minutes to hours</h3>"
   ]
  },
  {
   "cell_type": "code",
   "execution_count": 10,
   "id": "19d301f4",
   "metadata": {},
   "outputs": [
    {
     "name": "stdout",
     "output_type": "stream",
     "text": [
      "There are 4.0hours in 240minutes\n"
     ]
    }
   ],
   "source": [
    "minutes = 240\n",
    "hours = minutes / 60\n",
    "print(f\"There are {hours}hours in {minutes}minutes\")"
   ]
  },
  {
   "cell_type": "markdown",
   "id": "afd70f4e",
   "metadata": {},
   "source": [
    "<h3>List of popular languages for Data Science</h3>"
   ]
  },
  {
   "cell_type": "markdown",
   "id": "aab0d75e",
   "metadata": {},
   "source": [
    "<ol>\n",
    "    <li>Python</li>\n",
    "    <li>R</li>\n",
    "    <li>SQL</li>\n",
    "    <li>Julia</li>\n",
    "</ol>"
   ]
  },
  {
   "cell_type": "markdown",
   "id": "86fe3797",
   "metadata": {},
   "source": [
    "## Author:\n",
    "\n",
    "Olawoye Taofeek "
   ]
  },
  {
   "cell_type": "code",
   "execution_count": null,
   "id": "522b0f35",
   "metadata": {},
   "outputs": [],
   "source": []
  }
 ],
 "metadata": {
  "kernelspec": {
   "display_name": "Python 3 (ipykernel)",
   "language": "python",
   "name": "python3"
  },
  "language_info": {
   "codemirror_mode": {
    "name": "ipython",
    "version": 3
   },
   "file_extension": ".py",
   "mimetype": "text/x-python",
   "name": "python",
   "nbconvert_exporter": "python",
   "pygments_lexer": "ipython3",
   "version": "3.11.5"
  }
 },
 "nbformat": 4,
 "nbformat_minor": 5
}
